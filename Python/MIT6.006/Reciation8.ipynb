{
 "cells": [
  {
   "cell_type": "code",
   "execution_count": 1,
   "metadata": {},
   "outputs": [],
   "source": [
    "class PriorityQueue:\n",
    "    def __init__(self):\n",
    "        self.A = []\n",
    "    def insert(self,x):\n",
    "        self.A.append()\n",
    "    def delete_max(self):\n",
    "        if len(self.A) < 1:\n",
    "            raise IndexError('pop from empty priority queue');\n",
    "        return self.A.pop()\n",
    "    @classmethod\n",
    "    def sort(Queue,A):\n",
    "        pq = Queue() #make empty priority queue\n",
    "        for x in A:  #O(n) insert\n",
    "            pq.insert()\n",
    "        out = [pq.delete_max() for _ in A] # O(n) x delete_max\n",
    "        out.reverse()\n",
    "        return out;\n",
    "\n"
   ]
  },
  {
   "cell_type": "markdown",
   "metadata": {},
   "source": [
    "## In-Place Heaps"
   ]
  },
  {
   "cell_type": "code",
   "execution_count": null,
   "metadata": {},
   "outputs": [],
   "source": [
    "class PriorityQueue:\n",
    "    def __init__(self,A):\n",
    "        self.n,self.A = 0,A\n",
    "    \n",
    "    def insert(self):\n",
    "        if not self.n < len(self.A):\n",
    "            raise IndexError('insert into full priority queue');\n",
    "        self.n += 1\n",
    "    def delete_max(self):\n",
    "        if self.n < 1:\n",
    "            raise IndexError('pop from empty priority queue');\n",
    "        self.n -=1\n",
    "    \n",
    "    @classmethod\n",
    "    def sort(Queue,A):\n",
    "        pq = Queue(A);\n",
    "        for i in range(len(A)):\n",
    "            pq.insert()\n",
    "        for i in range(len(A)):\n",
    "            pq.delete_max()\n",
    "        return pq.A\n"
   ]
  },
  {
   "cell_type": "code",
   "execution_count": 2,
   "metadata": {},
   "outputs": [],
   "source": [
    "class PQ_Array(PriorityQueue):\n",
    "    # PriorityQueue.insert already correct: appends to the end of self.A\n",
    "    def delete_max(self): #O(n)\n",
    "        n = len(self.A);\n",
    "        A = self.A;\n",
    "        m = 0;\n",
    "        for i in range(1,n):\n",
    "            if A[m].key < A[i].key: # find the max\n",
    "                m = i;\n",
    "        A[m],A[n] = A[n],A[m]; # exchange A[max] with A[n]\n",
    "        return super().delete_max(); # pop the end A[max]\n"
   ]
  },
  {
   "cell_type": "code",
   "execution_count": 3,
   "metadata": {},
   "outputs": [],
   "source": [
    "class PQ_SortedArray(PriorityQueue):\n",
    "    # PriorityQueue.delete_max already correct: pop from end of self.A\n",
    "    def insert(self,*args): # *args allow one or zero argument\n",
    "        super().insert(*args); # append args to  end\n",
    "        i, A = len(self.A) - 1, self.A\n",
    "        while 0 < i and A[i+1].key < A[i].key:\n",
    "            A[i+1],A[i] = A[i],A[i+1]; # 类似插入排序\n",
    "            i -= 1;"
   ]
  },
  {
   "cell_type": "code",
   "execution_count": 4,
   "metadata": {},
   "outputs": [],
   "source": [
    "class PQ_heap(PriorityQueue):\n",
    "    def insert(self,*args): # O(log n)\n",
    "        super().insert(*args); #append to the end of array\n",
    "        n,A = self.n,self.A;\n",
    "        self.max_heapify_up(A,n,n-1);\n",
    "    \n",
    "    def build_max_heap(self,A):\n",
    "        n = len(A)\n",
    "        for i in range(n//2,-1,-1):\n",
    "            self.max_heapify_down(A,n,i);\n",
    "\n",
    "    def delete_max(self): #O(log n)\n",
    "        n,A = self.n,self.A;\n",
    "        A[0],A[n] = A[n],A[0];\n",
    "        self.max_heapify_down(A,n,0);\n",
    "        return super().delete_max(); # pop from end of array\n",
    "\n",
    "    def parent(self,i):\n",
    "        p = (i-1)//2;\n",
    "        return p if 0 < i else i;\n",
    "\n",
    "    def left(self,i,n):\n",
    "        l = 2*i + 1;\n",
    "        return l if l < n else i;\n",
    "    def right(self,i,n):\n",
    "        r = 2*i + 2;\n",
    "        return r if r < n else i ;\n",
    "    \n",
    "    def max_heapify_up(self,n,c):# T(c) = O(log c)\n",
    "        p = self.parent(c); #O(1) index of parent(or c)\n",
    "        if self.A[p].key < self.A[c].key:# O(1) compare\n",
    "            self.A[c],self.A[p] = self.A[p],self.A[c] #O(1) swap parent\n",
    "            self.max_heapify_up(n,p) #T(p) = T(c/2) recursive call on parent\n",
    "    \n",
    "    def max_heapify_down(self,n,p): #T(p) = O(log -logp)\n",
    "        l,r = self.A.left(p,n),self.A.right(p,n) #O(1) indices of children\n",
    "        c= l if self.A[r].key < self.A[l].key else r # O(1) index of largest child\n",
    "        if self.A[p].key < self.A[c].key: # O(1) compare\n",
    "            self.A[c],self.A[p] = self.A[p],self.A[c] #O(1) swap child\n",
    "            self.max_heapify_down(n,c) #T(c) recursive call on child\n"
   ]
  },
  {
   "cell_type": "code",
   "execution_count": null,
   "metadata": {},
   "outputs": [],
   "source": []
  }
 ],
 "metadata": {
  "kernelspec": {
   "display_name": "Python 3.7.13 ('learn')",
   "language": "python",
   "name": "python3"
  },
  "language_info": {
   "codemirror_mode": {
    "name": "ipython",
    "version": 3
   },
   "file_extension": ".py",
   "mimetype": "text/x-python",
   "name": "python",
   "nbconvert_exporter": "python",
   "pygments_lexer": "ipython3",
   "version": "3.7.13"
  },
  "orig_nbformat": 4,
  "vscode": {
   "interpreter": {
    "hash": "044fb5d7ec4ea748b982964470256c20702f43600b8b73325493a6ef538eb477"
   }
  }
 },
 "nbformat": 4,
 "nbformat_minor": 2
}
