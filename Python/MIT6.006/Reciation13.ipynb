{
 "cells": [
  {
   "cell_type": "code",
   "execution_count": null,
   "metadata": {},
   "outputs": [],
   "source": [
    "import import_ipynb\n",
    "import Reciation9"
   ]
  },
  {
   "cell_type": "markdown",
   "metadata": {},
   "source": [
    "##  Dijkstra"
   ]
  },
  {
   "cell_type": "markdown",
   "metadata": {},
   "source": [
    "### 使用direct access array的优先队列\n",
    "在$|E| = O(|V|^2)$时使用"
   ]
  },
  {
   "cell_type": "code",
   "execution_count": null,
   "metadata": {},
   "outputs": [],
   "source": [
    "class PriorityQueueDAA:\n",
    "    def __init__(self):\n",
    "        self.A = {}\n",
    "    \n",
    "    def insert(self,label,key):\n",
    "        self.A[label] = key\n",
    "\n",
    "    def extract_min(self):\n",
    "        min_label = None\n",
    "        for label in self.A:\n",
    "            if(min_label is None) or (self.A[label] < self.A[min_label].key):\n",
    "                min_label = label\n",
    "        del self.A[min_label]\n",
    "        return min_label\n",
    "    \n",
    "    def decrease_key(self,label,key):\n",
    "        if(label in self.A) and (key < self.A[label]):\n",
    "            self.A[label] = key"
   ]
  },
  {
   "cell_type": "markdown",
   "metadata": {},
   "source": [
    "### 使用Binary Min Heap的优先队列\n",
    "在$|E| = O(|V|)$时使用"
   ]
  },
  {
   "cell_type": "code",
   "execution_count": 3,
   "metadata": {},
   "outputs": [],
   "source": [
    "class Item:\n",
    "    def __init__(self,label,key):\n",
    "        self.label,self.key = label,key\n",
    "\n",
    "class PriorityQueueBMP:\n",
    "    def __init__(self):\n",
    "        self.A = []\n",
    "        self.label2idx = {} # return the given vertice's index in A\n",
    "    \n",
    "    def min_heapify_up(self,c):\n",
    "        if c == 0:\n",
    "            return\n",
    "        p = (c-1)//2\n",
    "        if self.A[p].key > self.A[c].key:\n",
    "            self.A[c],self.A[p] = self.A[p],self.A[c]\n",
    "            self.label2idx[self.A[c].label] = c\n",
    "            self.label2idx[self.A[p].label] = p\n",
    "            self.min_heapify_up(p)\n",
    "\n",
    "    def min_heapify_down(self,p):\n",
    "        if p >= len(self.A):\n",
    "            return\n",
    "        l = 2*p + 1;\n",
    "        r = 2*p + 2;\n",
    "        if l >= len(self.A): \n",
    "            l = p\n",
    "        if r >= len(self.A):\n",
    "            r = p\n",
    "        c = l  if self.A[r].key > self.A[l].key else r\n",
    "        if self.A[p].key > self.A[c].key:\n",
    "            self.A[c],self.A[p] = self.A[p],self.A[c]\n",
    "            self.label2idx[self.A[c].label] = c\n",
    "            self.label2idx[self.A[p].label] = p\n",
    "            self.min_heapify_down(c)       \n",
    "    \n",
    "    def insert(self,label,key):\n",
    "        self.A.append(Item(label,key))\n",
    "        idx = len(self.A)-1\n",
    "        self.label2idx[self.A[idx].labal] = idx\n",
    "        self.min_heapify_up(idx)\n",
    "    \n",
    "    def extract_min(self):\n",
    "        self.A[0],self.A[-1] = self.A[-1],self.A[0]\n",
    "        self.label2idx[self.A[0].label] = 0\n",
    "        del self.label2idx[self.A[-1].label]\n",
    "        min_label = self.A.pop().label\n",
    "        self.min_heapify_down(0)\n",
    "        return min_label\n",
    "\n",
    "    def decrease_key(self,label,key):\n",
    "        if label in self.label2idx:\n",
    "            idx = self.label2idx[label]\n",
    "            if key < self.A[idx].key:\n",
    "                self.A[idx].key = key\n",
    "                self.min_heapify_up(idx)"
   ]
  },
  {
   "cell_type": "markdown",
   "metadata": {},
   "source": [
    "### Dijkstra实现"
   ]
  },
  {
   "cell_type": "code",
   "execution_count": 4,
   "metadata": {},
   "outputs": [],
   "source": [
    "def dijkstra(Adj,w,s):\n",
    "    d = [ float('inf') for _ in Adj]\n",
    "    parent = [None for _ in Adj]\n",
    "    d[s], parent[s] = 0,s\n",
    "    Q = PriorityQueueBMP()\n",
    "    V = len(Adj)\n",
    "    for v in range(V):\n",
    "        Q.insert(v,d[v])\n",
    "    for _ in range(V):\n",
    "        u = Q.extract_min()\n",
    "        for v in Adj[u]:\n",
    "            Reciation9.try_to_relax(Adj,w,d,parent,u,v)\n",
    "            Q.decrease_key(v,d[v])\n",
    "    return d,parent"
   ]
  },
  {
   "cell_type": "code",
   "execution_count": 1,
   "metadata": {},
   "outputs": [
    {
     "name": "stdout",
     "output_type": "stream",
     "text": [
      "[[None, None], [None, None], [None, None]]\n"
     ]
    }
   ],
   "source": [
    "x = [[None] * 2 for _ in range(3)]\n",
    "print(x)"
   ]
  }
 ],
 "metadata": {
  "kernelspec": {
   "display_name": "Python 3.7.13 ('learn')",
   "language": "python",
   "name": "python3"
  },
  "language_info": {
   "codemirror_mode": {
    "name": "ipython",
    "version": 3
   },
   "file_extension": ".py",
   "mimetype": "text/x-python",
   "name": "python",
   "nbconvert_exporter": "python",
   "pygments_lexer": "ipython3",
   "version": "3.7.13"
  },
  "orig_nbformat": 4,
  "vscode": {
   "interpreter": {
    "hash": "044fb5d7ec4ea748b982964470256c20702f43600b8b73325493a6ef538eb477"
   }
  }
 },
 "nbformat": 4,
 "nbformat_minor": 2
}
