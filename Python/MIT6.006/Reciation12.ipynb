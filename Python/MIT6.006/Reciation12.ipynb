{
 "cells": [
  {
   "cell_type": "code",
   "execution_count": null,
   "metadata": {},
   "outputs": [],
   "source": [
    "import import_ipynb\n",
    "import Reciation9"
   ]
  },
  {
   "cell_type": "code",
   "execution_count": null,
   "metadata": {},
   "outputs": [],
   "source": [
    "def bellman_ford(Adj,w,s):\n",
    "    # initialization\n",
    "    infinity = float('inf')\n",
    "    d = [infinity for _ in Adj]\n",
    "    parent = [None  for _ in Adj]\n",
    "    d[s],parent[s] = 0,s\n",
    "    # construct shortest paths in rounds\n",
    "    V = len(Adj)\n",
    "    for k in range(V-1):\n",
    "        for u in range(V):\n",
    "            for v in Adj(u):\n",
    "                Reciation9.try_to_relax(Adj,w,d,parent,u,v)\n",
    "    # check for negative weight cycles accessible from s\n",
    "    for u in range(V):\n",
    "        for v in Adj[u]:\n",
    "            if d[v] > d[u] + w(u,v):\n",
    "                raise Exception('Ack! There is a negative weight cycle')\n",
    "    return d,parent  "
   ]
  }
 ],
 "metadata": {
  "kernelspec": {
   "display_name": "Python 3.7.13 ('learn')",
   "language": "python",
   "name": "python3"
  },
  "language_info": {
   "name": "python",
   "version": "3.7.13"
  },
  "orig_nbformat": 4,
  "vscode": {
   "interpreter": {
    "hash": "044fb5d7ec4ea748b982964470256c20702f43600b8b73325493a6ef538eb477"
   }
  }
 },
 "nbformat": 4,
 "nbformat_minor": 2
}
