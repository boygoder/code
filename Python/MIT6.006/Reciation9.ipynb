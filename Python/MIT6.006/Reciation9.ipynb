{
 "cells": [
  {
   "cell_type": "markdown",
   "metadata": {},
   "source": [
    "## Breadth-first Search"
   ]
  },
  {
   "cell_type": "code",
   "execution_count": 2,
   "metadata": {},
   "outputs": [],
   "source": [
    "def bfs(Adj,s):                     #Adj:adjacency list,s:starting vertex\n",
    "    parent = [None for v in Adj]    #O(v) use hash if unlabeled\n",
    "    parent[s] = s                   #O(1) root\n",
    "    level = [[s]]                   #O(1) initialize levels\n",
    "    while 0 < len(level[-1]):       #O(?) last level contians vertices\n",
    "        level.append([])            # O(1) amortizes,make new level \n",
    "        for u in level[-2]:         # O(?) loop over last full level\n",
    "            for v in Adj[u]:        #O(Adj(u)) loop over neighbors\n",
    "                if parent[v] is None:  #(1) parent not yet assigned\n",
    "                    parent[v] = u      #O(1) assign parent from level[-2]\n",
    "                    level[-1].append(v)#O(1) amortized,add to border\n",
    "    return parent"
   ]
  },
  {
   "cell_type": "code",
   "execution_count": 4,
   "metadata": {},
   "outputs": [],
   "source": [
    "def unweighted_shorest_path(Adj,s,t):\n",
    "    parent = bfs(Adj,s); #O(V+E) BFS tree from s\n",
    "    if parent[t] is None:#O(1) t reachable from s\n",
    "        return None      # O(1) no patt\n",
    "    i = t                # O(1) label of current vertex\n",
    "    path = [t]           # O(1) initialize patt\n",
    "    while i!=s:          # O(v) walk back to s  \n",
    "        i = parent[i]    # O(1) MOVE TO PARENT\n",
    "        path.append(i)   # O(1) amortized add to path\n",
    "    return path[::-1];   # O(v) return reversed path"
   ]
  },
  {
   "cell_type": "markdown",
   "metadata": {},
   "source": [
    "# Depth-first Search"
   ]
  },
  {
   "cell_type": "code",
   "execution_count": null,
   "metadata": {},
   "outputs": [],
   "source": [
    "def dfs(Adj,s,parent = None, order = None):\n",
    "    if parent is None:\n",
    "        parent = [None for v in Adj]\n",
    "        parent[s] = s\n",
    "        order = []\n",
    "    for v in Adj[s]:\n",
    "        if parent[v] is None:\n",
    "            parent[v] = s\n",
    "            dfs(Adj,v,parent,order)\n",
    "    order.append(s)\n",
    "    return parent,order"
   ]
  },
  {
   "cell_type": "markdown",
   "metadata": {},
   "source": [
    "## Full Graph Exploration Via Depth-first Search"
   ]
  },
  {
   "cell_type": "code",
   "execution_count": null,
   "metadata": {},
   "outputs": [],
   "source": [
    "def full_dfs(Adj):\n",
    "    parent = [None for v in Adj]\n",
    "    order = []\n",
    "    for v in range(len(Adj)):   #O(v) loop over vertices\n",
    "        if parent[v] is None:\n",
    "            parent[v] = v\n",
    "            dfs(Adj,v,parent,order)\n",
    "    return parent,order"
   ]
  },
  {
   "cell_type": "markdown",
   "metadata": {},
   "source": [
    "### DAG Relaxation\n"
   ]
  },
  {
   "cell_type": "code",
   "execution_count": null,
   "metadata": {},
   "outputs": [],
   "source": [
    "def try_to_relax(Adj,w,d,parent,u,v):\n",
    "    if d[v] > d[u] + w(u,v): ## d(s,v) > d(s,u) + w(u,v)\n",
    "        d[v] = d[u] + w(u,v) ## d(s,v) = d(s,u) + w(u,v)\n",
    "        parent[v]  =  u\n",
    "def DAG_Relaxation(Adj,w,s):\n",
    "    _,order = dfs(Adj,s)\n",
    "    order.reverse()\n",
    "    d = [float('inf') for _ in Adj]\n",
    "    parent = [None for _ in Adj]\n",
    "    d[s] = 0\n",
    "    parent[s] = s\n",
    "    for u in order:\n",
    "        for v in Adj(u):\n",
    "            try_to_relax(Adj,w,d,parent,u,v)\n",
    "    return d,parent\n",
    "    \n"
   ]
  }
 ],
 "metadata": {
  "kernelspec": {
   "display_name": "Python 3.7.13 ('learn')",
   "language": "python",
   "name": "python3"
  },
  "language_info": {
   "codemirror_mode": {
    "name": "ipython",
    "version": 3
   },
   "file_extension": ".py",
   "mimetype": "text/x-python",
   "name": "python",
   "nbconvert_exporter": "python",
   "pygments_lexer": "ipython3",
   "version": "3.7.13"
  },
  "orig_nbformat": 4,
  "vscode": {
   "interpreter": {
    "hash": "044fb5d7ec4ea748b982964470256c20702f43600b8b73325493a6ef538eb477"
   }
  }
 },
 "nbformat": 4,
 "nbformat_minor": 2
}
