{
 "cells": [
  {
   "cell_type": "code",
   "execution_count": 23,
   "metadata": {},
   "outputs": [],
   "source": [
    "def get_damages(H):\n",
    "    '''\n",
    "    Input: H | list of bricks per house from west to east\n",
    "    Output: D | list of damage per house from west to east \n",
    "    '''\n",
    "    D  = [1 for _ in H];\n",
    "    H2 = [(H[i],i) for i in range(len(H))]\n",
    "    print(H2)\n",
    "    def merge_sort(A,a=0,b=None):\n",
    "        if b is None : b  = len(A)\n",
    "        if(b-a > 1):\n",
    "            c = (a+b+1)//2;\n",
    "            merge_sort(A,a,c)\n",
    "            merge_sort(A,c,b)\n",
    "            L,R = A[a:c],A[c:b];\n",
    "            i,j=0,0\n",
    "            while a < b:\n",
    "                if(j >= len(R)) or (i < len(L) and L[i][0] <= R[j][0]):\n",
    "                    D[L[i][1]] += j;\n",
    "                    A[a] = L[i]\n",
    "                    i += 1\n",
    "                else:\n",
    "                    A[a] = R[j]\n",
    "                    j += 1\n",
    "                a +=1;\n",
    "    merge_sort(H2)\n",
    "    return D\n",
    "\n"
   ]
  },
  {
   "cell_type": "code",
   "execution_count": 6,
   "metadata": {},
   "outputs": [],
   "source": [
    "def get_damages_special(H):\n",
    "    '''\n",
    "    when all but one house is special:只有一所不特殊\n",
    "    只有一个元素比相邻右端大，所以右侧子序列的damage都为1\n",
    "    左侧的，依次比较左右侧，若左侧大于右侧，则右侧下标++，否则，左侧+j,左侧下标++\n",
    "    '''\n",
    "    D = [1 for _ in H];\n",
    "    if len(D) < 2: return D\n",
    "    special = 0\n",
    "    for j in range(0,len(D)-1):\n",
    "        if H[j] >= H[j+1]:\n",
    "            special = j;\n",
    "            break;\n",
    "    i,j=0,0\n",
    "    A = H[0:special+1]\n",
    "    B = H[special+1:len(H)]\n",
    "    while(i < len(A)):\n",
    "        if( j < len(B)) and (A[i] > B[j]):\n",
    "            j = j + 1\n",
    "        else:\n",
    "            D[i] += j;\n",
    "            i = i + 1;\n",
    "    return D "
   ]
  },
  {
   "cell_type": "code",
   "execution_count": 24,
   "metadata": {},
   "outputs": [
    {
     "name": "stdout",
     "output_type": "stream",
     "text": [
      "[2, 2, 1, 1]\n",
      "[(34, 0), (57, 1), (70, 2), (19, 3), (48, 4), (2, 5), (94, 6), (7, 7), (63, 8), (75, 9)]\n",
      "[4, 5, 6, 3, 3, 1, 4, 1, 1, 1]\n"
     ]
    }
   ],
   "source": [
    "H1 = [70,80,40,90]\n",
    "D1 = get_damages_special(H1)\n",
    "print(D1)\n",
    "H2 = [34,57,70,19,48,2,94,7,63,75]\n",
    "D2 = get_damages(H2)\n",
    "print(D2)"
   ]
  }
 ],
 "metadata": {
  "kernelspec": {
   "display_name": "Python 3.7.13 ('learn')",
   "language": "python",
   "name": "python3"
  },
  "language_info": {
   "codemirror_mode": {
    "name": "ipython",
    "version": 3
   },
   "file_extension": ".py",
   "mimetype": "text/x-python",
   "name": "python",
   "nbconvert_exporter": "python",
   "pygments_lexer": "ipython3",
   "version": "3.7.13"
  },
  "orig_nbformat": 4,
  "vscode": {
   "interpreter": {
    "hash": "044fb5d7ec4ea748b982964470256c20702f43600b8b73325493a6ef538eb477"
   }
  }
 },
 "nbformat": 4,
 "nbformat_minor": 2
}
