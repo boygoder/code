{
 "cells": [
  {
   "cell_type": "code",
   "execution_count": null,
   "metadata": {},
   "outputs": [],
   "source": [
    "def direct_access_sort(A):\n",
    "    #\"Sort A assuming items hanve distinct non_negative keys\"\n",
    "    u = 1 + max([x.key for x in A]);\n",
    "    D = [None] * u;\n",
    "    for  x in A:\n",
    "        D[x.key] = x\n",
    "    i = 0\n",
    "    for key in range(u):\n",
    "        if D[key] is not None:\n",
    "            A[i] = D[key]\n",
    "            i+=1 "
   ]
  },
  {
   "cell_type": "code",
   "execution_count": null,
   "metadata": {},
   "outputs": [],
   "source": [
    "def counting_sort_duplicate1(A):\n",
    "    u = 1 + max([x.key for x in A]);\n",
    "    D = [[] for i in range(u)]\n",
    "    for x in A:\n",
    "        D[x.key].append(x)\n",
    "    i=0\n",
    "    for chain in D:\n",
    "        for x in chain:\n",
    "            A[i] = x\n",
    "            i+=1"
   ]
  },
  {
   "cell_type": "code",
   "execution_count": 6,
   "metadata": {},
   "outputs": [],
   "source": [
    "def counting_sort_duplicate2(A):\n",
    "    u = 1 + max([x.key for x in A]);\n",
    "    D = [0] * u\n",
    "    for x in A:\n",
    "        D[x.key] +=1\n",
    "    for k in range(1,u):\n",
    "        D[k] +=D[k-1]\n",
    "    for x in list(reversed(A)):\n",
    "        A[D[x.key] - 1] = x\n",
    "        D[x.key] -= 1"
   ]
  },
  {
   "cell_type": "code",
   "execution_count": 17,
   "metadata": {},
   "outputs": [],
   "source": [
    "import math\n",
    "def radix_sort(A):\n",
    "    n = len(A)\n",
    "    u = 1 + max([x for x in A])\n",
    "    #c = 1 + (u.bit_length() // n.bit_length())\n",
    "\n",
    "    c = math.ceil(math.log(u,n))\n",
    "    print(c)\n",
    "    class Obj: pass\n",
    "    D = [Obj() for a in A]\n",
    "    for i in range(n):\n",
    "        D[i].digits = []\n",
    "        D[i].item = A[i]\n",
    "        high = A[i]\n",
    "        for j in range(c):\n",
    "            high,low = divmod(high,n) \n",
    "            D[i].digits.append(low);\n",
    "    for i in range(c):\n",
    "        for j in range(n):\n",
    "            D[j].key = D[j].digits[i]\n",
    "        counting_sort_duplicate2(D)\n",
    "    for i in range(n):\n",
    "        A[i] = D[i].item;"
   ]
  },
  {
   "cell_type": "code",
   "execution_count": 18,
   "metadata": {},
   "outputs": [
    {
     "name": "stdout",
     "output_type": "stream",
     "text": [
      "4\n",
      "[329, 355, 436, 457, 657, 720, 839]\n"
     ]
    }
   ],
   "source": [
    "A = [329,457,657,839,436,720,355]\n",
    "radix_sort(A)\n",
    "print(A)"
   ]
  },
  {
   "cell_type": "code",
   "execution_count": 26,
   "metadata": {},
   "outputs": [
    {
     "name": "stdout",
     "output_type": "stream",
     "text": [
      "(119, 6) (17, 0) (2, 3) (0, 2)\n"
     ]
    }
   ],
   "source": [
    "math.log(839,7)\n",
    "c1 = divmod(839,7)\n",
    "c2 = divmod(119,7)\n",
    "c3 = divmod(17,7)\n",
    "c4 = divmod(2,7)\n",
    "print(c1,c2,c3,c4)"
   ]
  },
  {
   "cell_type": "code",
   "execution_count": 28,
   "metadata": {},
   "outputs": [],
   "source": [
    "##Reciation 3-4:(a)\n",
    "def check_sum_to_h(A,h):\n",
    "    mapA = dict()\n",
    "    for i in A:\n",
    "        mapA[i] = i;\n",
    "    for i in mapA:\n",
    "        if (h - i) in mapA:\n",
    "            return True;\n",
    "    return False;\n"
   ]
  },
  {
   "cell_type": "code",
   "execution_count": 31,
   "metadata": {},
   "outputs": [],
   "source": [
    "##Reciation 3-4:(b)\n",
    "def find_closet_lower_to_h(A,h):\n",
    "    lowA = []\n",
    "    for i in range(len(A)):\n",
    "        if A[i] < h:\n",
    "            lowA.append(A[i])\n",
    "    radix_sort(lowA)\n",
    "    i,j = 0,len(lowA)-1;\n",
    "    result = 0\n",
    "    while(i <= j):\n",
    "        now = lowA[i] + lowA[j]\n",
    "        if(now <= h):\n",
    "            if(now > result):\n",
    "                result = now;\n",
    "            i = i + 1;\n",
    "        elif now > h:\n",
    "            j = j-1; \n",
    "    return result;\n",
    "    "
   ]
  },
  {
   "cell_type": "code",
   "execution_count": 33,
   "metadata": {},
   "outputs": [
    {
     "name": "stdout",
     "output_type": "stream",
     "text": [
      "3\n",
      "False 1194\n"
     ]
    }
   ],
   "source": [
    "A = [329,457,657,839,436,720,355,343,682,965]\n",
    "h = 1206\n",
    "check =check_sum_to_h(A,h)\n",
    "result = find_closet_lower_to_h(A,h)\n",
    "print(check,result)"
   ]
  }
 ],
 "metadata": {
  "kernelspec": {
   "display_name": "Python 3.7.13 ('learn')",
   "language": "python",
   "name": "python3"
  },
  "language_info": {
   "codemirror_mode": {
    "name": "ipython",
    "version": 3
   },
   "file_extension": ".py",
   "mimetype": "text/x-python",
   "name": "python",
   "nbconvert_exporter": "python",
   "pygments_lexer": "ipython3",
   "version": "3.7.13"
  },
  "orig_nbformat": 4,
  "vscode": {
   "interpreter": {
    "hash": "044fb5d7ec4ea748b982964470256c20702f43600b8b73325493a6ef538eb477"
   }
  }
 },
 "nbformat": 4,
 "nbformat_minor": 2
}
