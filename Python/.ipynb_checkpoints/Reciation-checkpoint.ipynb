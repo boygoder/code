{
 "cells": [
  {
   "cell_type": "markdown",
   "id": "7bf641ce",
   "metadata": {},
   "source": [
    "## **Recitation2**:full Python implementation of an array sequence"
   ]
  },
  {
   "cell_type": "code",
   "execution_count": null,
   "id": "1e75895e",
   "metadata": {},
   "outputs": [],
   "source": [
    "class Array_seq:\n",
    "    def __init__(self):##双下划线代表私有\n",
    "        self.A = []\n",
    "        self.size = 0\n",
    "    def __len__(self): return self.size\n",
    "    def __iter__(self): yield from self.A ## yield:相当于return 一个迭代器,生成器是一个返回迭代器的函数\n",
    "    \n",
    "    def build(self,X):\n",
    "        self.A = [a for a in X] #pretend this builds a static array\n",
    "        self.size = len(self.A)\n",
    "        \n",
    "    def get_at(self,i):\n",
    "        return self.A[i]\n",
    "    def set_at(self,i,x):\n",
    "        self.A[i] = x\n",
    "    #将self.A中[i,i+n-1]复制到A[j,j+n-1]\n",
    "    def _copy_forward(self,i,n,A,j)：#单下划线表示protected\n",
    "        for k in range(n):\n",
    "            A[j+k] = self.A[i+k]\n",
    "    def _copy_backward(self,i,n,A,j):## 逆序复制，结果和顺序好像一样？？？\n",
    "        for k in range(n-1,-1,-1):\n",
    "            A[j+k] = self.A[i+k]\n",
    "    def insert_at(self,i,x):\n",
    "        n = len(self)\n",
    "        A = [None]*(n+1)\n",
    "        self._copy_forward(0,i,A,0)#复制[0,i-1]\n",
    "        A[i] =x                    #在第i个index插入x\n",
    "        self._copy_forward(i,n-i,A,i+1)#复制[i,n)\n",
    "        self.build(A)\n",
    "    def delete_at(self,i):\n",
    "        n=len(self)\n",
    "        A=[None]*(n-1)\n",
    "        self._copy_forward(0,i,A,0)\n",
    "        x = self.A[i]\n",
    "        self._copy_forward(i+1,n-i-1,A,i)\n",
    "        self.build(A)\n",
    "        return x\n",
    "    def insert_first(self,x): insert_at(self,0,x)\n",
    "    def insert_last(self,x):insert_at(self,len(self),x)\n",
    "    def delete_first(self):return delete_at(self,0)\n",
    "    def delete_last(self):return delete_at(self,len(self)-1)"
   ]
  },
  {
   "cell_type": "code",
   "execution_count": null,
   "id": "84982d3f",
   "metadata": {},
   "outputs": [],
   "source": [
    "class Linked_List_Node:\n",
    "    def __init__(self,x):\n",
    "        self.item = x\n",
    "        self.next = None\n",
    "    def later_node(self,i):##返回当前节点后的第i个\n",
    "        if i==0: return self\n",
    "        assert(self.next)\n",
    "        return self.next.later_node(i-1)"
   ]
  },
  {
   "cell_type": "code",
   "execution_count": null,
   "id": "e759bd9a",
   "metadata": {},
   "outputs": [],
   "source": [
    "class Linked_List_Seq:\n",
    "    def __init__(self):\n",
    "        self.head = None\n",
    "        self.size=0\n",
    "    def __len__(self):\n",
    "        return self.size\n",
    "    def __iter__(self):\n",
    "        node = self.head\n",
    "        while node:\n",
    "            yield from node.item\n",
    "            node = node.next\n",
    "    def build(self,X):\n",
    "        for x in reversed(X):\n",
    "            insert_first(x)\n",
    "    def get_at(self,i):\n",
    "        ##assert(i < self.size) 因为later_node里已经有越界判断\n",
    "        node = self.head.later_node(i)\n",
    "        return node.item\n",
    "    def set_at(self,i,x):\n",
    "        node = self.head.later_node(i)\n",
    "        node.item = x\n",
    "    def insert_first(self,x):\n",
    "        newhead = Linked_List_Seq(x)\n",
    "        newhead.next = self.head\n",
    "        self.head = newhead\n",
    "    def delete_first(self):\n",
    "        \n",
    "    def insert_at(self,i,x):\n",
    "    def delete_at(self,i):\n",
    "    def insert_last(x):\n",
    "    def delete_last();"
   ]
  }
 ],
 "metadata": {
  "kernelspec": {
   "display_name": "Python 3",
   "language": "python",
   "name": "python3"
  },
  "language_info": {
   "codemirror_mode": {
    "name": "ipython",
    "version": 3
   },
   "file_extension": ".py",
   "mimetype": "text/x-python",
   "name": "python",
   "nbconvert_exporter": "python",
   "pygments_lexer": "ipython3",
   "version": "3.7.10"
  },
  "toc": {
   "base_numbering": 1,
   "nav_menu": {
    "height": "243.002px",
    "width": "387.955px"
   },
   "number_sections": true,
   "sideBar": true,
   "skip_h1_title": false,
   "title_cell": "Table of Contents",
   "title_sidebar": "Contents",
   "toc_cell": false,
   "toc_position": {},
   "toc_section_display": true,
   "toc_window_display": false
  }
 },
 "nbformat": 4,
 "nbformat_minor": 5
}
