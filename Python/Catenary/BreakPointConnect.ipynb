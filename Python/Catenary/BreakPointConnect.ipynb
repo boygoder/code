{
 "cells": [
  {
   "cell_type": "code",
   "execution_count": 238,
   "metadata": {},
   "outputs": [],
   "source": [
    "import matplotlib.pyplot as plt\n",
    "import numpy as np\n",
    "# import scipy\n",
    "# from scipy.optimize import leastsq,curve_fit\n",
    "import cv2\n",
    "# from scipy import interpolate\n",
    "# from skimage import filters,io\n",
    "np.set_printoptions(threshold=np.inf)"
   ]
  },
  {
   "cell_type": "code",
   "execution_count": 239,
   "metadata": {},
   "outputs": [],
   "source": [
    "#读取原图片\n",
    "def load_image(file_path,file_name,file_ext):\n",
    "    file = file_path + file_name + file_ext;\n",
    "    Image = cv2.imread(file,0); #cv加载的图片灰度为0~255\n",
    "    ret, Binary = cv2.threshold(Image, 0, 255, cv2.THRESH_BINARY)\n",
    "    [image_y_max,image_x_max] = Binary.shape;\n",
    "    print(f\"原图片高度：{image_y_max},原图片宽度：{image_x_max}\");\n",
    "    \n",
    "    plt.imshow(Binary,cmap = \"gray\");\n",
    "    plt.show();\n",
    "    for x in range(0,image_x_max):\n",
    "        for y in range(0,image_y_max):\n",
    "            if (Binary[y,x] != 0):\n",
    "                Binary[y,x] = 1;\n",
    "    return Binary;"
   ]
  },
  {
   "cell_type": "code",
   "execution_count": 240,
   "metadata": {},
   "outputs": [],
   "source": [
    "# 识别端点\n",
    "def GetEndPoints(Image):\n",
    "    LeftTopNeighbors = [(-1,-1), (0, -1), (1, -1),(-1,0)];\n",
    "    LeftBottomNeighbors = [(-1,-1),(0,-1),(1,-1),(1,0)];\n",
    "    RightTopNeighbors = [(-1,0),(-1,1),(0,1),(1,1)];\n",
    "    RightBottomNeighbors = [(1,0),(-1,1),(0,1),(1,1)];\n",
    "    [image_y_max,image_x_max] = Image.shape;\n",
    "    LeftEndPoints = [];\n",
    "    RightEndPoints = [];\n",
    "    for y in range(1,image_y_max-1):\n",
    "        for x in range(1,image_x_max-1):\n",
    "            if Image[y,x] != 0:\n",
    "                sum_neighbors = 0;\n",
    "                for neighbor in LeftTopNeighbors:\n",
    "                    [dy, dx] = neighbor;\n",
    "                    sum_neighbors += Image[y+dy,x+dx];\n",
    "                if sum_neighbors == 0: #是一个端点。\n",
    "                   #print(f\"x:{x},y:{y}\\n\");\n",
    "                   LeftEndPoints.append([y,x]);  \n",
    "                   break;             \n",
    "                sum_neighbors = 0;\n",
    "                for neighbor in RightBottomNeighbors:\n",
    "                    [dy, dx] = neighbor;\n",
    "                    sum_neighbors += Image[y+dy,x+dx];\n",
    "                if sum_neighbors == 0: #是一个端点。\n",
    "                   #print(f\"x:{x},y:{y}\\n\");\n",
    "                   RightEndPoints.append([y,x]); \n",
    "                   break;\n",
    "    return LeftEndPoints,RightEndPoints;"
   ]
  },
  {
   "cell_type": "code",
   "execution_count": 241,
   "metadata": {},
   "outputs": [],
   "source": [
    "#返回需要连接的点对\n",
    "#!!!! 有可能在一个地方识别出多个端点，考虑在配对后，删除附近一定范围内的端点\n",
    "def GetEndPointsPair(LeftEndPoints,RightEndPoints):\n",
    "    leftnum = len(LeftEndPoints);\n",
    "    #print(f\"左端点数目:{leftnum}\\n\");\n",
    "    rightnum = len(RightEndPoints);\n",
    "    #print(f\"右端点数目:{rightnum}\\n\");\n",
    "    #计算左右点对之间的距离。\n",
    "    distance = np.zeros((leftnum,rightnum),dtype=float);\n",
    "    for l in range(0,distance.shape[0]):\n",
    "        for r in range(0,distance.shape[1]):\n",
    "            left = LeftEndPoints[l];\n",
    "            right = RightEndPoints[r];\n",
    "            distance[l,r] =np.sqrt(pow (left[0] - right[0],2) + pow(left[1] - right[1],2));\n",
    "    #依次寻找距离最小的左端点、右端点对，也就是需要连接的点，然后将其删除，再从剩余的点对中寻找。\n",
    "    endpoints_pair = [];\n",
    "    min_index = np.argmin(distance);\n",
    "    row,column = divmod(min_index, distance.shape[1]);#min_index是矩阵展开的一维下标，r和c分别为商和余数，即最小值在矩阵中的行和列print(row,column);\n",
    "    min_distance = distance[row,column];\n",
    "    while (min_distance < 150):\n",
    "        print(f\"左端点:{LeftEndPoints[row]},右端点:{RightEndPoints[column]}\\n\");\n",
    "        endpoints_pair.append([LeftEndPoints[row],RightEndPoints[column]]);\n",
    "        distance = np.delete(distance,row,axis = 0);\n",
    "        distance = np.delete(distance,column,axis = 1);\n",
    "        del LeftEndPoints[row];\n",
    "        del RightEndPoints[column];\n",
    "        min_index = np.argmin(distance);\n",
    "        row,column = divmod(min_index, distance.shape[1]);\n",
    "        min_distance = distance[row,column];\n",
    "    return endpoints_pair;"
   ]
  },
  {
   "cell_type": "code",
   "execution_count": 242,
   "metadata": {},
   "outputs": [],
   "source": [
    "def Connect(Image,endpoints_pair,file_path,file_name):\n",
    "    Image_connect = Image;\n",
    "    plt.imshow(Image_connect,cmap = \"gray\");\n",
    "    for pair in endpoints_pair:\n",
    "        [point1,point2] = pair;\n",
    "        start = point1 if(point1[1] < point2[1]) else  point2;\n",
    "        end = point1 if(start != point1) else point2;\n",
    "        x_connect = [];\n",
    "        y_connect = [];\n",
    "        print(f\"连接，左端点:{start},右端点:{end}\\n\");\n",
    "        k = (end[0] - start[0])/(end[1] - start[1]);\n",
    "        print(f\"斜率：{k}\")\n",
    "        for x in range(start[1],end[1]):\n",
    "            y = int(k*(x - start[1]) + start[0]);\n",
    "            x_connect.append(x);\n",
    "            y_connect.append(y);\n",
    "            # for dx in range(-3,3):\n",
    "            #     for dy in range(-3,3):\n",
    "            #         Image_connect[y+dy,x+dx] = 1;\n",
    "        plt.plot(x_connect,y_connect,color = 'green',linewidth = 2);\n",
    "    file = file_path + \"connect\\\\\" + file_name + \"_connect.png\";\n",
    "    plt.savefig(file);\n",
    "    plt.show();\n",
    "    return Image_connect;"
   ]
  },
  {
   "cell_type": "code",
   "execution_count": 243,
   "metadata": {},
   "outputs": [],
   "source": [
    "#整合断点连接过程\n",
    "def  BreakPointConnector(file_path,file_name,file_ext):\n",
    "    Image = load_image(file_path,file_name,file_ext);\n",
    "    LeftEndPoints,RightEndPoints = GetEndPoints(Image);\n",
    "    # print(\"左端点:\\n\");\n",
    "    # print(LeftEndPoints);\n",
    "    # print(\"右端点:\\n\");\n",
    "    # print(RightEndPoints);\n",
    "    EndPointsPair = GetEndPointsPair(LeftEndPoints,RightEndPoints);\n",
    "    Image_connect = Connect(Image,EndPointsPair,file_path,file_name);\n"
   ]
  },
  {
   "cell_type": "code",
   "execution_count": 244,
   "metadata": {},
   "outputs": [
    {
     "name": "stdout",
     "output_type": "stream",
     "text": [
      ".\\breakpoint\\2 (2).png\n",
      "\n",
      "原图片高度：1440,原图片宽度：2560\n"
     ]
    },
    {
     "data": {
      "image/png": "[encoded data removed]",
      "text/plain": [
       "<Figure size 640x480 with 1 Axes>"
      ]
     },
     "metadata": {},
     "output_type": "display_data"
    },
    {
     "name": "stdout",
     "output_type": "stream",
     "text": [
      "左端点:[760, 1381],右端点:[743, 1345]\n",
      "\n",
      "左端点:[691, 1590],右端点:[652, 1548]\n",
      "\n",
      "左端点:[521, 1421],右端点:[662, 1463]\n",
      "\n",
      "连接，左端点:[743, 1345],右端点:[760, 1381]\n",
      "\n",
      "斜率：0.4722222222222222\n",
      "连接，左端点:[652, 1548],右端点:[691, 1590]\n",
      "\n",
      "斜率：0.9285714285714286\n",
      "连接，左端点:[521, 1421],右端点:[662, 1463]\n",
      "\n",
      "斜率：3.357142857142857\n"
     ]
    },
    {
     "data": {
      "image/png": "[encoded data removed]",
      "text/plain": [
       "<Figure size 640x480 with 1 Axes>"
      ]
     },
     "metadata": {},
     "output_type": "display_data"
    }
   ],
   "source": [
    "file_path = \".\\\\breakpoint\\\\\"\n",
    "file_name = ['2 (' + str(f) + ')'  for f in range(2,3)];\n",
    "file_ext = \".png\";\n",
    "\n",
    "for f in file_name:\n",
    "    file = file_path + f + file_ext;\n",
    "    print(file_path + f + file_ext + \"\\n\");\n",
    "    BreakPointConnector(file_path,f,file_ext);  \n"
   ]
  },
  {
   "cell_type": "code",
   "execution_count": 245,
   "metadata": {},
   "outputs": [],
   "source": [
    "#调用sobel边缘提取\n",
    "# def sobel(Image):\n",
    "#     x_sobel = cv2.Sobel(Image, cv2.CV_16S, 1, 0)\n",
    "#     y_sobel = cv2.Sobel(Image, cv2.CV_16S, 0, 1)\n",
    "\n",
    "#     absX = cv2.convertScaleAbs(x_sobel) # 转回unit8\n",
    "#     absY = cv2.convertScaleAbs(y_sobel)\n",
    "\n",
    "#     Image_sobel = cv2.addWeighted(absX, 0.5, absY, 0.5, 0);\n",
    "    \n",
    "#     [image_y_max,image_x_max] = Image_sobel.shape;\n",
    "#     for y in range(image_y_max):\n",
    "#         for x in range(image_x_max):\n",
    "#             if Image_sobel[y,x] != 0:\n",
    "#                 Image_sobel[y,x] = 1;\n",
    "                \n",
    "#     plt.imshow(Image_sobel,cmap = \"gray\");\n",
    "#     plt.show();\n",
    "#     return Image_sobel;\n"
   ]
  },
  {
   "cell_type": "code",
   "execution_count": 246,
   "metadata": {},
   "outputs": [],
   "source": [
    "#采集上下边缘，求中值\n",
    "# def refine(Image):\n",
    "#     [image_y_max, image_x_max] =  Image.shape;\n",
    "#     Image_refine = np.zeros((image_y_max,image_x_max));\n",
    "#     for x in range(0,image_x_max): \n",
    "#         start = end  = 0;\n",
    "#         for y in range(image_y_max-1,-1,-1):\n",
    "#             v = x;\n",
    "#             u = int(-y + image_y_max - 1);\n",
    "#             if (Image[u,v] == 1):\n",
    "#                 if (u == 0) or (Image[u-1,v] == 0):#开始\n",
    "#                     start = u;\n",
    "#                 if (u == image_y_max-1) or (Image[u+1,v] == 0):#结束 \n",
    "#                     end = u;\n",
    "#                 if(end != 0): # 遍历完一段曲线，求中，把start、end复原\n",
    "#                     mid = int((start+end)/2);\n",
    "#                     Image_refine[mid,v] = 1;\n",
    "#                     start = end  = 0;\n",
    "            \n",
    "#     plt.imshow(Image_refine,cmap = \"gray\");\n",
    "#     plt.show();\n",
    "#     return Image_refine;"
   ]
  },
  {
   "cell_type": "code",
   "execution_count": 247,
   "metadata": {},
   "outputs": [],
   "source": [
    "#裁剪原图片\n",
    "# def extract_edge(Image,file_path,file_name):\n",
    "#     [image_y_max,image_x_max] = Image.shape;\n",
    "#     min_x = max_x = min_y = max_y = 0;\n",
    "#     sum_col = np.sum(Image,axis=0);\n",
    "#     for i in range(0,image_x_max):\n",
    "#         if (sum_col[i] != 0):\n",
    "#             min_x = i;\n",
    "#             break;\n",
    "#     for i in range(image_x_max-1,min_x,-1):\n",
    "#         if (sum_col[i] != 0):\n",
    "#             max_x = i;\n",
    "#             break;\n",
    "\n",
    "\n",
    "    # sum_row = np.sum(Image,axis=1);\n",
    "    # for i in range(0,image_y_max):   \n",
    "    #     if (sum_row[i] != 0):\n",
    "    #         min_y = i;\n",
    "    #         break; \n",
    "    # for i in range(image_y_max - 1,min_y,-1):\n",
    "    #     if (sum_row[i] != 0):\n",
    "    #         max_y = i;\n",
    "    #         break;\n",
    "\n",
    "    # Image = Image[min_y:max_y,min_x:max_x];\n",
    "\n",
    "    # [image_y_max, image_x_max] =  Image.shape;\n",
    "    # print('裁剪后高度:%d,裁剪后宽度:%d\\n' %(image_y_max,image_x_max));\n",
    "    \n",
    "    # ## 像素矩阵的值改为0/1。\n",
    "    # for i in range(0,image_x_max):\n",
    "    #     for j in range(0,image_y_max):\n",
    "    #         if (Image[j,i] != 0):\n",
    "    #             Image[j,i] = 1;\n",
    "                       \n",
    "                \n",
    "    # plt.xlim((0, image_x_max));\n",
    "    # plt.ylim((image_y_max, 0));\n",
    "    # plt.imshow(Image,cmap = \"gray\");\n",
    "    # file = file_path + \"cut\\\\\" + file_name + \"_cut.png\";\n",
    "    # plt.savefig(file);\n",
    "    # plt.show();\n",
    "    # return Image;"
   ]
  }
 ],
 "metadata": {
  "kernelspec": {
   "display_name": "Python 3.10.8 ('learn')",
   "language": "python",
   "name": "python3"
  },
  "language_info": {
   "codemirror_mode": {
    "name": "ipython",
    "version": 3
   },
   "file_extension": ".py",
   "mimetype": "text/x-python",
   "name": "python",
   "nbconvert_exporter": "python",
   "pygments_lexer": "ipython3",
   "version": "3.10.8"
  },
  "orig_nbformat": 4,
  "vscode": {
   "interpreter": {
    "hash": "044fb5d7ec4ea748b982964470256c20702f43600b8b73325493a6ef538eb477"
   }
  }
 },
 "nbformat": 4,
 "nbformat_minor": 2
}
