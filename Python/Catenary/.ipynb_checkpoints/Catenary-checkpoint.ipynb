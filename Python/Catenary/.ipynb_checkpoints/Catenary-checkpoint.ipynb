{
 "cells": [
  {
   "cell_type": "code",
   "execution_count": 1,
   "id": "02d6546b",
   "metadata": {},
   "outputs": [],
   "source": [
    "import matplotlib.pyplot as plt\n",
    "import numpy as np\n",
    "from skimage.color import rgb2gray\n",
    "from scipy.optimize import leastsq\n",
    "\n",
    "np.set_printoptions(threshold=np.inf)"
   ]
  },
  {
   "cell_type": "code",
   "execution_count": 2,
   "id": "479fc64c",
   "metadata": {},
   "outputs": [
    {
     "name": "stdout",
     "output_type": "stream",
     "text": [
      "原图片高度：1440,原图片宽度：2560\n"
     ]
    },
    {
     "data": {
      "image/png": "[encoded data removed]",
      "text/plain": [
       "<Figure size 432x288 with 1 Axes>"
      ]
     },
     "metadata": {
      "needs_background": "light"
     },
     "output_type": "display_data"
    }
   ],
   "source": [
    "#读取原图片\n",
    "file = \".\\\\figure\\\\14.png\"\n",
    "Image = plt.imread(file);\n",
    "if len(Image.shape) == 3:\n",
    "    Image = rgb2gray(Image)\n",
    "[image_y_max,image_x_max] = Image.shape;\n",
    "print(f\"原图片高度：{image_y_max},原图片宽度：{image_x_max}\");\n",
    "plt.imshow(Image,cmap = \"gray\");\n",
    "plt.show()"
   ]
  },
  {
   "cell_type": "code",
   "execution_count": 5,
   "id": "f9b822ce",
   "metadata": {},
   "outputs": [
    {
     "name": "stdout",
     "output_type": "stream",
     "text": [
      "min_x:0,max_x:1156,min_y:0,max_y:628\n",
      "\n",
      "裁剪后长度:628，裁剪后宽度:1156\n",
      "\n"
     ]
    },
    {
     "data": {
      "image/png": "[encoded data removed]",
      "text/plain": [
       "<Figure size 432x288 with 1 Axes>"
      ]
     },
     "metadata": {
      "needs_background": "light"
     },
     "output_type": "display_data"
    }
   ],
   "source": [
    "#裁剪原图片\n",
    "min_x = max_x = min_y = max_y = 0;\n",
    "sum_col = np.sum(Image,axis=0);\n",
    "for i in range(0,image_x_max):\n",
    "    if (sum_col[i] != 0):\n",
    "        min_x = i;\n",
    "        break;\n",
    "for i in range(image_x_max-1,min_x,-1):\n",
    "    if (sum_col[i] != 0):\n",
    "        max_x = i;\n",
    "        break;\n",
    "\n",
    "\n",
    "sum_row = np.sum(Image,axis=1);\n",
    "for i in range(0,image_y_max):   \n",
    "    if (sum_row[i] != 0):\n",
    "        min_y = i;\n",
    "        break; \n",
    "for i in range(image_y_max - 1,min_y,-1):\n",
    "    if (sum_row[i] != 0):\n",
    "        max_y = i;\n",
    "        break;\n",
    "\n",
    "Image = Image[min_y:max_y,min_x:max_x];\n",
    "\n",
    "print('min_x:%d,max_x:%d,min_y:%d,max_y:%d\\n'%(min_x,max_x,min_y,max_y));\n",
    "[image_y_max, image_x_max] =  Image.shape;\n",
    "print('裁剪后长度:%d，裁剪后宽度:%d\\n' %(image_y_max,image_x_max));\n",
    "plt.imshow(Image,cmap = \"gray\");\n",
    "plt.show();"
   ]
  },
  {
   "cell_type": "code",
   "execution_count": 6,
   "id": "ce91aea8",
   "metadata": {},
   "outputs": [
    {
     "data": {
      "image/png": "[encoded data removed]",
      "text/plain": [
       "<Figure size 432x288 with 1 Axes>"
      ]
     },
     "metadata": {
      "needs_background": "light"
     },
     "output_type": "display_data"
    }
   ],
   "source": [
    "#上侧边缘提取\n",
    "\n",
    "for x in range(0,image_x_max): \n",
    "    is_white = False;\n",
    "    for y in range(image_y_max-1,-1,-1):\n",
    "        v = x;\n",
    "        u = -y + image_y_max - 1;\n",
    "        if (Image[u,v] == 1):\n",
    "            if (is_white == False):\n",
    "                is_white = True;\n",
    "            else:\n",
    "                Image[u,v] = 0;\n",
    "        else:\n",
    "            is_white = False;\n",
    "\n",
    "plt.imshow(Image,cmap = \"gray\");\n",
    "plt.show();"
   ]
  },
  {
   "cell_type": "code",
   "execution_count": 7,
   "id": "6bfda777",
   "metadata": {},
   "outputs": [
    {
     "name": "stdout",
     "output_type": "stream",
     "text": [
      "5\n",
      "2\n",
      "判定缆绳数量为：3\n",
      "裁剪后长度:628，裁剪后宽度:1151\n",
      "\n"
     ]
    }
   ],
   "source": [
    "#判断有几条曲线，选择能够提供充分样点的最大曲线数。\n",
    "count = np.sum(Image,axis = 0);\n",
    "num_curve = int(np.max(count));\n",
    "num_curve_part = np.where(count==num_curve);\n",
    "length = np.size(num_curve_part);\n",
    "\n",
    "min_length = round(image_x_max/20);\n",
    "\n",
    "while (length < min_length):\n",
    "    count = np.delete(count,num_curve_part);\n",
    "    Image = np.delete(Image, num_curve_part, axis=1)\n",
    "    num_curve = int(np.max(count));\n",
    "    num_curve_part= np.where(count==num_curve);\n",
    "    length = np.size(num_curve_part);\n",
    "\n",
    "print(\"判定缆绳数量为：%d\" %(num_curve));\n",
    "[image_y_max, image_x_max] =  Image.shape;\n",
    "print('裁剪后长度:%d，裁剪后宽度:%d\\n' %(image_y_max,image_x_max));      \n"
   ]
  },
  {
   "cell_type": "code",
   "execution_count": 8,
   "id": "1c2edf34",
   "metadata": {},
   "outputs": [
    {
     "name": "stdout",
     "output_type": "stream",
     "text": [
      "截取起点：86, 截取长度：182\n",
      "\n"
     ]
    },
    {
     "data": {
      "image/png": "[encoded data removed]",
      "text/plain": [
       "<Figure size 432x288 with 1 Axes>"
      ]
     },
     "metadata": {
      "needs_background": "light"
     },
     "output_type": "display_data"
    }
   ],
   "source": [
    "##根据像素矩阵的列和判断是否有交点，我们希望截取一段无交点部分(最长的部分)\n",
    "length = 0;\n",
    "start = end = 0;\n",
    "share_index = 0;\n",
    "while (start < image_x_max) and (end < image_x_max):\n",
    "    while (start < image_x_max ) and (count[start] != num_curve):\n",
    "        start = start + 1;\n",
    "    end = start + 1;\n",
    "    while (end < image_x_max) and (count[end] == num_curve):\n",
    "        end = end + 1;\n",
    "    sublength = end - start;\n",
    "    if (sublength > length):\n",
    "        length = sublength;\n",
    "        share_index = start;\n",
    "    start = end + 1;\n",
    "print('截取起点：%d, 截取长度：%d\\n' %(share_index,length));\n",
    "Image_cut  = Image[ : ,share_index : share_index + length - 1];\n",
    "[imagecut_y_max,imagecut_x_max] = Image_cut.shape;\n",
    "plt.imshow(Image_cut,cmap = \"gray\");\n",
    "plt.show()"
   ]
  },
  {
   "cell_type": "code",
   "execution_count": 9,
   "id": "c5dceacc",
   "metadata": {
    "scrolled": true
   },
   "outputs": [],
   "source": [
    "#截取初始用来回归的点\n",
    "sample_points = np.zeros((imagecut_x_max,2,num_curve));\n",
    "for i in range(0,imagecut_x_max):\n",
    "    curve_id = 0;\n",
    "    for j in range(imagecut_y_max-1,-1,-1):\n",
    "        x = i + share_index;\n",
    "        y = -j + imagecut_y_max - 1;\n",
    "        if (Image_cut[y,i] == 1):\n",
    "            sample_points[i,0,curve_id] = x;\n",
    "            sample_points[i,1,curve_id] = j;\n",
    "            curve_id  = curve_id + 1;\n",
    "# print(sample_points) "
   ]
  },
  {
   "cell_type": "code",
   "execution_count": 10,
   "id": "df3d982e",
   "metadata": {},
   "outputs": [],
   "source": [
    "def function(x, a, b, c):\n",
    "    result = a * np.cosh((x-b)/a) + c\n",
    "    return result"
   ]
  },
  {
   "cell_type": "code",
   "execution_count": 11,
   "id": "447ad3eb",
   "metadata": {},
   "outputs": [],
   "source": [
    "def f_err(p, y, x):\n",
    "    return y - function(x, *p)"
   ]
  },
  {
   "cell_type": "code",
   "execution_count": 27,
   "id": "39de7930",
   "metadata": {},
   "outputs": [
    {
     "data": {
      "image/png": "[encoded data removed]",
      "text/plain": [
       "<Figure size 432x288 with 1 Axes>"
      ]
     },
     "metadata": {
      "needs_background": "light"
     },
     "output_type": "display_data"
    },
    {
     "name": "stdout",
     "output_type": "stream",
     "text": [
      "y = 5719.770734*cosh((x- 983.173397)/5719.770734) + -5172.668189 \n",
      "\n",
      "y = 825.656408*cosh((x- 844.087523)/825.656408) + -646.277947 \n",
      "\n",
      "y = 139.877349*cosh((x- 421.322368)/139.877349) + -237.448493 \n",
      "\n"
     ]
    }
   ],
   "source": [
    "#开始第一次拟合\n",
    "parameter_origin = np.zeros((num_curve,3));\n",
    "for i in range(0,num_curve):\n",
    "    y = sample_points[:,1,i];\n",
    "    x = sample_points[:,0,i];\n",
    "    parameter_initial = [imagecut_y_max,imagecut_x_max,-imagecut_y_max];\n",
    "    [parameter, _] = leastsq(f_err, parameter_initial, args=(y, x));\n",
    "    parameter_origin[i,:] = parameter;\n",
    "                                     \n",
    "plt.xlim((0, image_x_max))\n",
    "plt.ylim((image_y_max, 0))\n",
    "plt.imshow(Image,cmap = \"gray\");\n",
    "for id  in range(0,num_curve):\n",
    "    t = parameter_origin[id,:];\n",
    "    x_fit = np.zeros(image_x_max);\n",
    "    y_fit = np.zeros(image_x_max);\n",
    "    \n",
    "    for x in range(0,image_x_max):\n",
    "        x_fit[x] = x;\n",
    "        y_fit[x] = t[0]*np.cosh((x - t[1])/ t[0]) + t[2];\n",
    "        \n",
    "    u_fit = - y_fit + image_y_max;\n",
    "    plt.plot(x_fit,u_fit,color = 'green',linewidth = 2);\n",
    "#plt.figure(figsize = (image_x_max//100,image_y_max//100));\n",
    "plt.show()\n",
    "\n",
    "for id in range(0,num_curve):\n",
    "    a = parameter_origin[id,0];\n",
    "    b = parameter_origin[id,1];\n",
    "    c = parameter_origin[id,2];\n",
    "    print(\"y = %f*cosh((x- %f)/%f) + %f \\n\" %(a,b,a,c));"
   ]
  },
  {
   "cell_type": "code",
   "execution_count": 29,
   "id": "83180ddc",
   "metadata": {},
   "outputs": [
    {
     "name": "stdout",
     "output_type": "stream",
     "text": [
      "181\n",
      "y = 9557866.464578*cosh((x- 1635623.527099)/9557866.464578) + -9697520.242638 \n",
      "\n",
      "y = 509.032996*cosh((x- 607.909190)/509.032996) + -242.027371 \n",
      "\n",
      "y = 141.306790*cosh((x- 422.160434)/141.306790) + -235.619898 \n",
      "\n"
     ]
    }
   ],
   "source": [
    "#def CalculateParameter(Image,sample_points_origin,parameter_origin,iterate_time):\n",
    "sample_points_origin = sample_points;\n",
    "iterate_time = 1;\n",
    "[image_y_max,image_x_max] = Image.shape;\n",
    "num_curve = int(parameter_origin.shape[0]);\n",
    "\n",
    "parameter_old = parameter_origin;\n",
    "sample_points_old = sample_points_origin;\n",
    "\n",
    "expansion_size = int(round(image_x_max/iterate_time));\n",
    "\n",
    "for time in range(0,iterate_time):        \n",
    "\n",
    "    pnt_num = sample_points_old.shape[0];\n",
    "    print(pnt_num)\n",
    "    x_cut_min = sample_points_old[0,0,0];\n",
    "    x_cut_max = sample_points_old[pnt_num-1,0,0];\n",
    "    if (x_cut_min > expansion_size):\n",
    "        x_cut_min = x_cut_min - expansion_size;\n",
    "    else:\n",
    "        x_cut_min = 0;\n",
    "\n",
    "    if ( image_x_max - x_cut_max > expansion_size):\n",
    "        x_cut_max = x_cut_max + expansion_size;\n",
    "    else:\n",
    "        x_cut_max = image_x_max - 1;\n",
    "\n",
    "    x_cut_size = int(x_cut_max - x_cut_min + 1);\n",
    "    sample_points_new = np.zeros((x_cut_size,2,num_curve));\n",
    "    for i in range(0,num_curve):\n",
    "        for x in range(0,x_cut_size):\n",
    "            sample_points_new[x,0,i] = x + x_cut_min; \n",
    "\n",
    "    for  x  in range(0,x_cut_size):\n",
    "        for y in range(image_y_max-1,-1,-1):\n",
    "            u = int(-y + image_y_max - 1);\n",
    "            v = int(x + x_cut_min);\n",
    "            if (Image[u,v] == 1):\n",
    "                y_distance = np.zeros(num_curve);\n",
    "                for id in range(0,num_curve):\n",
    "                    t = parameter_old[id,:];\n",
    "                    y_fit = t[0]*np.cosh((v - t[1])/ t[0]) + t[2];\n",
    "                    y_distance[id] = np.abs(y_fit - y);\n",
    "\n",
    "                #寻找离这个点最近的曲线\n",
    "                min_distance = np.min(y_distance);\n",
    "                #if (min_distance < 12):\n",
    "                curve_id = np.where(y_distance == min_distance);\n",
    "                sample_points_new[x,1,curve_id] = y;\n",
    "    # print(sample_points_new)\n",
    "\n",
    "    parameter_new = np.zeros((num_curve,3));\n",
    "    for id in range(0, num_curve):\n",
    "        sample_x = sample_points_new[:,0,id];\n",
    "        sample_y = sample_points_new[:,1,id];\n",
    "        #将曲线中没有选定点的列删除。\n",
    "        zero_column = np.where(sample_y == 0);\n",
    "        sample_x = np.delete(sample_x,zero_column);\n",
    "        sample_y = np.delete(sample_y,zero_column);\n",
    "\n",
    "\n",
    "        parameter_initial = [image_y_max,image_x_max,-image_y_max]; \n",
    "        [parameter, _] = leastsq(f_err, parameter_initial, args=(sample_y, sample_x));      \n",
    "        parameter_new[id,:] = parameter;             \n",
    "\n",
    "    for id in range(0,num_curve):\n",
    "        a = parameter_new[id,0];\n",
    "        b = parameter_new[id,1];\n",
    "        c = parameter_new[id,2];\n",
    "        print(\"y = %f*cosh((x- %f)/%f) + %f \\n\" %(a,b,a,c))   \n",
    "    parameter_old = parameter_new;\n",
    "    sample_points_old = sample_points_new;\n",
    "    #return [parameter_old,sample_points_old];"
   ]
  },
  {
   "cell_type": "code",
   "execution_count": 30,
   "id": "b273a8ec",
   "metadata": {},
   "outputs": [
    {
     "name": "stdout",
     "output_type": "stream",
     "text": [
      "y = 9557866.464578*cosh((x- 1635623.527099)/9557866.464578) + -9697520.242638 \n",
      "\n",
      "y = 509.032996*cosh((x- 607.909190)/509.032996) + -242.027371 \n",
      "\n",
      "y = 141.306790*cosh((x- 422.160434)/141.306790) + -235.619898 \n",
      "\n"
     ]
    }
   ],
   "source": [
    "#[parameter,sample_points] = CalculateParameter(Image,sample_points,parameter_origin,2);\n",
    "parameter = parameter_old;\n",
    "sample_points = sample_points_old;\n",
    "for id in range(0,num_curve):\n",
    "    a = parameter[id,0];\n",
    "    b = parameter[id,1];\n",
    "    c = parameter[id,2];\n",
    "    print(\"y = %f*cosh((x- %f)/%f) + %f \\n\" %(a,b,a,c));"
   ]
  },
  {
   "cell_type": "code",
   "execution_count": 31,
   "id": "3c2c83ee",
   "metadata": {},
   "outputs": [
    {
     "name": "stdout",
     "output_type": "stream",
     "text": [
      "y = -0.126957 x + 623.000000 \n",
      "\n",
      "y = -0.294052 x + 631.292929 \n",
      "\n",
      "y = 0.068351 x + 474.121842 \n",
      "\n",
      "[0.12192145 0.21684357 0.72514586]\n"
     ]
    }
   ],
   "source": [
    "radian = np.zeros(num_curve);\n",
    "for id in range(0,num_curve):\n",
    "    sample_x = sample_points[:,0,id];\n",
    "    sample_y = sample_points[:,1,id];\n",
    "    #将曲线中没有选定点的列删除。\n",
    "    zero_column = np.where(sample_y == 0);\n",
    "    sample_x = np.delete(sample_x,zero_column);\n",
    "    sample_y = np.delete(sample_y,zero_column);\n",
    "            \n",
    "    #取出样本点的起点和终点，画出直线。\n",
    "    pnt_num = sample_x.shape[0];\n",
    "    x_start = sample_x[0];\n",
    "    y_start = sample_y[0];\n",
    "    x_end = sample_x[pnt_num-1];\n",
    "    y_end = sample_y[pnt_num-1];\n",
    "            \n",
    "    #起点到终点的直线。\n",
    "    k = (y_end - y_start) / (x_end - x_start);\n",
    "    b = y_end - k * x_end;\n",
    "            \n",
    "\n",
    "            \n",
    "    #计算曲线到直线的距离，取出最大值计算弯曲度\n",
    "    line_length  = np.sqrt(pow(x_end - x_start,2) + pow(y_end - y_start,2));\n",
    "    distance = np.zeros(pnt_num);\n",
    "    for i in range(0,pnt_num):\n",
    "        distance[i] = np.abs(k*sample_x[i] - sample_y[i] + b) / np.sqrt(1 + k*k);\n",
    "\n",
    "    max_distance = np.max(distance);\n",
    "    radian[id] = max_distance / line_length;\n",
    "    print(\"y = %f x + %f \\n\" %(k,b));\n",
    "print(radian)"
   ]
  },
  {
   "cell_type": "code",
   "execution_count": 32,
   "id": "b594e036",
   "metadata": {},
   "outputs": [
    {
     "data": {
      "image/png": "[encoded data removed]",
      "text/plain": [
       "<Figure size 432x288 with 1 Axes>"
      ]
     },
     "metadata": {
      "needs_background": "light"
     },
     "output_type": "display_data"
    }
   ],
   "source": [
    "plt.xlim((0, image_x_max))\n",
    "plt.ylim((image_y_max, 0))\n",
    "plt.imshow(Image,cmap = \"gray\");\n",
    "for id  in  range(0,num_curve):\n",
    "    t = parameter[id,:];\n",
    "    x_fit = np.zeros(image_x_max);\n",
    "    y_fit = np.zeros(image_x_max);\n",
    "    for x in range(0,image_x_max):\n",
    "        x_fit[x] = x;\n",
    "        y_fit[x] = t[0]*np.cosh((x - t[1])/ t[0]) + t[2];\n",
    "    u_fit = - y_fit + image_y_max - 1;\n",
    "    plt.plot(x_fit,u_fit,color = 'green',linewidth = 2);\n",
    "plt.show()"
   ]
  },
  {
   "cell_type": "code",
   "execution_count": null,
   "id": "1ec6475e",
   "metadata": {},
   "outputs": [],
   "source": [
    "def test_lsq:\n",
    "    for f in range(1,16):\n",
    "    {  \n",
    "        file_path = \".\\\\figure\\\\\";\n",
    "        file_name =  str(f);\n",
    "        file_ext = \".png\";\n",
    "        file = file_name + file_path + file_ext;\n",
    "        lsq(file);\n",
    "    }"
   ]
  }
 ],
 "metadata": {
  "kernelspec": {
   "display_name": "Python 3",
   "language": "python",
   "name": "python3"
  },
  "language_info": {
   "codemirror_mode": {
    "name": "ipython",
    "version": 3
   },
   "file_extension": ".py",
   "mimetype": "text/x-python",
   "name": "python",
   "nbconvert_exporter": "python",
   "pygments_lexer": "ipython3",
   "version": "3.7.10"
  },
  "toc": {
   "base_numbering": 1,
   "nav_menu": {},
   "number_sections": true,
   "sideBar": true,
   "skip_h1_title": false,
   "title_cell": "Table of Contents",
   "title_sidebar": "Contents",
   "toc_cell": false,
   "toc_position": {},
   "toc_section_display": true,
   "toc_window_display": false
  },
  "varInspector": {
   "cols": {
    "lenName": 16,
    "lenType": 16,
    "lenVar": 40
   },
   "kernels_config": {
    "python": {
     "delete_cmd_postfix": "",
     "delete_cmd_prefix": "del ",
     "library": "var_list.py",
     "varRefreshCmd": "print(var_dic_list())"
    },
    "r": {
     "delete_cmd_postfix": ") ",
     "delete_cmd_prefix": "rm(",
     "library": "var_list.r",
     "varRefreshCmd": "cat(var_dic_list()) "
    }
   },
   "oldHeight": 430,
   "position": {
    "height": "40px",
    "left": "712px",
    "right": "20px",
    "top": "-1px",
    "width": "313px"
   },
   "types_to_exclude": [
    "module",
    "function",
    "builtin_function_or_method",
    "instance",
    "_Feature"
   ],
   "varInspector_section_display": "none",
   "window_display": false
  }
 },
 "nbformat": 4,
 "nbformat_minor": 5
}
