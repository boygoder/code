{
 "cells": [
  {
   "cell_type": "code",
   "execution_count": 47,
   "id": "02d6546b",
   "metadata": {},
   "outputs": [],
   "source": [
    "import matplotlib.pyplot as plt\n",
    "import numpy as np\n",
    "from skimage.color import rgb2gray\n",
    "from scipy.optimize import leastsq,curve_fit\n",
    "\n",
    "np.set_printoptions(threshold=np.inf)"
   ]
  },
  {
   "cell_type": "code",
   "execution_count": 48,
   "id": "554b1fb2",
   "metadata": {},
   "outputs": [],
   "source": [
    "def function(x, a, b, c):\n",
    "    result = a * np.cosh((x-b)/a) + c\n",
    "    return result"
   ]
  },
  {
   "cell_type": "code",
   "execution_count": 49,
   "id": "479fc64c",
   "metadata": {},
   "outputs": [],
   "source": [
    "#读取原图片\n",
    "def load_image(file_path,file_name,file_ext):\n",
    "    file = file_path + file_name + file_ext;\n",
    "    Image = plt.imread(file);\n",
    "    [image_y_max,image_x_max] = Image.shape;\n",
    "    print(f\"原图片高度：{image_y_max},原图片宽度：{image_x_max}\");\n",
    "    plt.imshow(Image,cmap = \"gray\");\n",
    "    plt.show()\n",
    "    return Image;"
   ]
  },
  {
   "cell_type": "code",
   "execution_count": 50,
   "id": "f9b822ce",
   "metadata": {},
   "outputs": [],
   "source": [
    "#裁剪原图片\n",
    "def extract_edge(Image,file_path,file_name):\n",
    "    [image_y_max,image_x_max] = Image.shape;\n",
    "    min_x = max_x = min_y = max_y = 0;\n",
    "    sum_col = np.sum(Image,axis=0);\n",
    "    for i in range(0,image_x_max):\n",
    "        if (sum_col[i] != 0):\n",
    "            min_x = i;\n",
    "            break;\n",
    "    for i in range(image_x_max-1,min_x,-1):\n",
    "        if (sum_col[i] != 0):\n",
    "            max_x = i;\n",
    "            break;\n",
    "\n",
    "\n",
    "    sum_row = np.sum(Image,axis=1);\n",
    "    for i in range(0,image_y_max):   \n",
    "        if (sum_row[i] != 0):\n",
    "            min_y = i;\n",
    "            break; \n",
    "    for i in range(image_y_max - 1,min_y,-1):\n",
    "        if (sum_row[i] != 0):\n",
    "            max_y = i;\n",
    "            break;\n",
    "\n",
    "    Image = Image[min_y:max_y,min_x:max_x];\n",
    "\n",
    "    [image_y_max, image_x_max] =  Image.shape;\n",
    "    print('裁剪后长度:%d,裁剪后宽度:%d\\n' %(image_y_max,image_x_max));\n",
    "\n",
    "    for x in range(0,image_x_max): \n",
    "        is_white = False;\n",
    "        for y in range(image_y_max-1,-1,-1):\n",
    "            v = x;\n",
    "            u = int(-y + image_y_max - 1);\n",
    "            if (Image[u,v] != 0):\n",
    "                if (is_white == False):\n",
    "                    is_white = True;\n",
    "                else:\n",
    "                    Image[u,v] = 0;\n",
    "            else:\n",
    "                is_white = False;\n",
    "    plt.xlim((0, image_x_max));\n",
    "    plt.ylim((image_y_max, 0));\n",
    "    plt.imshow(Image,cmap = \"gray\");\n",
    "    file = file_path + file_name + \"_cut.png\";\n",
    "    plt.savefig(file);\n",
    "    plt.show();\n",
    "    return Image;"
   ]
  },
  {
   "cell_type": "code",
   "execution_count": 51,
   "id": "6bfda777",
   "metadata": {},
   "outputs": [],
   "source": [
    "#判断有几条曲线，选择能够提供充分样点的最大曲线数。\n",
    "def get_curve_number(Image):\n",
    "    [image_y_max,image_x_max] = Image.shape;\n",
    "    count = np.sum(Image,axis = 0);\n",
    "    num_curve = int(np.max(count));\n",
    "    num_curve_part = np.where(count==num_curve);\n",
    "    length = np.size(num_curve_part);\n",
    "\n",
    "    min_length = round(image_x_max/20);\n",
    "\n",
    "    while (length < min_length):\n",
    "        count[num_curve_part] = 0;\n",
    "        num_curve = int(np.max(count));\n",
    "        num_curve_part= np.where(count==num_curve);\n",
    "        length = np.size(num_curve_part);\n",
    "\n",
    "    print(\"判定缆绳数量为：%d\" %(num_curve));\n",
    "    [image_y_max, image_x_max] =  Image.shape;\n",
    "    print('裁剪后长度:%d,裁剪后宽度:%d\\n' %(image_y_max,image_x_max));   \n",
    "       \n",
    "    return [num_curve,count];"
   ]
  },
  {
   "cell_type": "code",
   "execution_count": 52,
   "id": "1c2edf34",
   "metadata": {},
   "outputs": [],
   "source": [
    "##根据像素矩阵的列和判断是否有交点，我们希望截取一段无交点部分(最长的部分)\n",
    "def get_sample_points(Image):\n",
    "    [num_curve,count] = get_curve_number(Image);\n",
    "    [image_y_max,image_x_max] = Image.shape;\n",
    "    length = 0;\n",
    "    start = end = 0;\n",
    "    share_index = 0;\n",
    "    while (start < image_x_max) and (end < image_x_max):\n",
    "        while (start < image_x_max ) and (count[start] != num_curve):\n",
    "            start = start + 1;\n",
    "        end = start + 1;\n",
    "        while (end < image_x_max) and (count[end] == num_curve):\n",
    "            end = end + 1;\n",
    "        sublength = end - start;\n",
    "        if (sublength > length):\n",
    "            length = sublength;\n",
    "            share_index = start;\n",
    "        start = end + 1;\n",
    "    print('截取起点：%d, 截取长度：%d\\n' %(share_index,length));\n",
    "    Image_cut  = Image[ : ,share_index : share_index + length - 1];\n",
    "    [imagecut_y_max,imagecut_x_max] = Image_cut.shape;\n",
    "    plt.imshow(Image_cut,cmap = \"gray\");\n",
    "    plt.show()\n",
    "\n",
    "    sample_points = np.zeros((imagecut_x_max,2,num_curve));\n",
    "    for i in range(0,imagecut_x_max):\n",
    "        curve_id = 0;\n",
    "        for j in range(imagecut_y_max-1,-1,-1):\n",
    "            x = i + share_index;\n",
    "            y = -j + imagecut_y_max - 1;\n",
    "            if (Image_cut[y,i] != 0):\n",
    "                sample_points[i,0,curve_id] = x;\n",
    "                sample_points[i,1,curve_id] = j;\n",
    "                curve_id  = curve_id + 1;\n",
    "    return [Image_cut,sample_points];"
   ]
  },
  {
   "cell_type": "code",
   "execution_count": 53,
   "id": "39de7930",
   "metadata": {},
   "outputs": [],
   "source": [
    "#开始第一次拟合\n",
    "def initial_fit(Image,sample_points):\n",
    "    [image_y_max,image_x_max] = Image.shape;\n",
    "    num_curve = int(sample_points.shape[2]);\n",
    "    parameter_origin = np.zeros((num_curve,3));\n",
    "    for i in range(0,num_curve):\n",
    "        y = sample_points[:,1,i];\n",
    "        x = sample_points[:,0,i];\n",
    "        parameter_initial = [image_y_max,image_x_max,-image_y_max];\n",
    "        #[parameter, _] = leastsq(f_err, parameter_initial, args=(y, x));\n",
    "        parameter,pcov = curve_fit(function,x,y,p0 = parameter_initial,method = 'dogbox',max_nfev=100000);\n",
    "        parameter_origin[i,:] = parameter;\n",
    "                                        \n",
    "    plt.xlim((0, image_x_max))\n",
    "    plt.ylim((image_y_max, 0))\n",
    "    plt.imshow(Image,cmap = \"gray\");\n",
    "    for id  in range(0,num_curve):\n",
    "        t = parameter_origin[id,:];\n",
    "        x_fit = np.zeros(image_x_max);\n",
    "        y_fit = np.zeros(image_x_max);\n",
    "        \n",
    "        for x in range(0,image_x_max):\n",
    "            x_fit[x] = x;\n",
    "            y_fit[x] = t[0]*np.cosh((x - t[1])/ t[0]) + t[2];\n",
    "            \n",
    "        u_fit = - y_fit + image_y_max;\n",
    "        plt.plot(x_fit,u_fit,color = 'green',linewidth = 2);\n",
    "    plt.show()\n",
    "    return parameter_origin;\n",
    "# for id in range(0,num_curve):\n",
    "#     a = parameter_origin[id,0];\n",
    "#     b = parameter_origin[id,1];\n",
    "#     c = parameter_origin[id,2];\n",
    "#     print(\"y = %f*cosh((x- %f)/%f) + %f \\n\" %(a,b,a,c));"
   ]
  },
  {
   "cell_type": "code",
   "execution_count": 54,
   "id": "83180ddc",
   "metadata": {},
   "outputs": [],
   "source": [
    "def iterate_fit(Image,sample_points_origin,parameter_origin,iterate_time):\n",
    "    [image_y_max,image_x_max] = Image.shape;\n",
    "    num_curve = int(sample_points_origin.shape[2]);\n",
    "\n",
    "    parameter_old = parameter_origin;\n",
    "    sample_points_old = sample_points_origin;\n",
    "\n",
    "    expansion_size = int(round(image_x_max/(iterate_time)));\n",
    "\n",
    "    for time in range(0,iterate_time):        \n",
    "\n",
    "        pnt_num = sample_points_old.shape[0];\n",
    "        x_cut_min = sample_points_old[0,0,0];\n",
    "        x_cut_max = sample_points_old[pnt_num-1,0,0];\n",
    "        if (x_cut_min > expansion_size):\n",
    "            x_cut_min = x_cut_min - expansion_size;\n",
    "        else:\n",
    "            x_cut_min = 0;\n",
    "\n",
    "        if ( image_x_max - x_cut_max > expansion_size):\n",
    "            x_cut_max = x_cut_max + expansion_size;\n",
    "        else:\n",
    "            x_cut_max = image_x_max - 1;\n",
    "\n",
    "        x_cut_size = int(x_cut_max - x_cut_min + 1);\n",
    "        sample_points_new = np.zeros((x_cut_size,2,num_curve));\n",
    "        for i in range(0,num_curve):\n",
    "            for x in range(0,x_cut_size):\n",
    "                sample_points_new[x,0,i] = x + x_cut_min; \n",
    "\n",
    "        for  x  in range(0,x_cut_size):\n",
    "            for y in range(image_y_max-1,-1,-1):\n",
    "                u = int(-y + image_y_max - 1);\n",
    "                v = int(x + x_cut_min);\n",
    "                if (Image[u,v] != 0):\n",
    "                    y_distance = np.zeros(num_curve);\n",
    "                    for id in range(0,num_curve):\n",
    "                        t = parameter_old[id,:];\n",
    "                        y_fit = t[0]*np.cosh((v - t[1])/ t[0]) + t[2];\n",
    "                        y_distance[id] = np.abs(y_fit - y);\n",
    "\n",
    "                    #寻找离这个点最近的曲线\n",
    "                    min_distance = np.min(y_distance);\n",
    "                    if (min_distance <= 12):\n",
    "                        curve_id = np.where(y_distance == min_distance);\n",
    "                        sample_points_new[x,1,curve_id] = y;\n",
    "\n",
    "        parameter_new = np.zeros((num_curve,3));\n",
    "        for id in range(0, num_curve):\n",
    "            sample_x = sample_points_new[:,0,id];\n",
    "            sample_y = sample_points_new[:,1,id];\n",
    "            #将曲线中没有选定点的列删除。\n",
    "            zero_column = np.where(sample_y == 0);\n",
    "            sample_x = np.delete(sample_x,zero_column);\n",
    "            sample_y = np.delete(sample_y,zero_column);\n",
    "\n",
    "\n",
    "            parameter_initial = parameter_old[id,:]; \n",
    "            #[parameter, _] = leastsq(f_err, parameter_initial, args=(sample_y, sample_x));      \n",
    "            parameter,pcov = curve_fit(function,sample_x,sample_y,p0 = parameter_initial,method = 'dogbox',max_nfev=100000);\n",
    "            parameter_new[id,:] = parameter;             \n",
    "\n",
    "        print(\"Iterate_time:%d \\n\" %(time));\n",
    "        for id in range(0,num_curve):\n",
    "            a = parameter_new[id,0];\n",
    "            b = parameter_new[id,1];\n",
    "            c = parameter_new[id,2];\n",
    "            print(\"y = %f*cosh((x- %f)/%f) + %f \\n\" %(a,b,a,c))   \n",
    "        parameter_old = parameter_new;\n",
    "        sample_points_old = sample_points_new;\n",
    "    return [parameter_old,sample_points_old];"
   ]
  },
  {
   "cell_type": "code",
   "execution_count": 55,
   "id": "3c2c83ee",
   "metadata": {},
   "outputs": [],
   "source": [
    "def calculate_radian(parameter,sample_points,file_name):\n",
    "    num_curve = int(sample_points.shape[2]);\n",
    "    radian = np.zeros(num_curve);\n",
    "    for id in range(0,num_curve):\n",
    "        sample_x = sample_points[:,0,id];\n",
    "        sample_y = sample_points[:,1,id];\n",
    "        #将曲线中没有选定点的列删除。\n",
    "        zero_column = np.where(sample_y == 0);\n",
    "        sample_x = np.delete(sample_x,zero_column);\n",
    "        sample_y = np.delete(sample_y,zero_column);\n",
    "                \n",
    "        #取出样本点的起点和终点，画出直线。\n",
    "        pnt_num = sample_x.shape[0];\n",
    "        x_start = sample_x[0];\n",
    "        y_start = sample_y[0];\n",
    "        x_end = sample_x[pnt_num-1];\n",
    "        y_end = sample_y[pnt_num-1];\n",
    "                \n",
    "        #起点到终点的直线。\n",
    "        k = (y_end - y_start) / (x_end - x_start);\n",
    "        b = y_end - k * x_end;\n",
    "                \n",
    "\n",
    "                \n",
    "        #计算曲线到直线的距离，取出最大值计算弯曲度\n",
    "        line_length  = np.sqrt(pow(x_end - x_start,2) + pow(y_end - y_start,2));\n",
    "        distance = np.zeros(pnt_num);\n",
    "        for i in range(0,pnt_num):\n",
    "            distance[i] = np.abs(k*sample_x[i] - sample_y[i] + b) / np.sqrt(1 + k*k);\n",
    "\n",
    "        max_distance = np.max(distance);\n",
    "        radian[id] = max_distance / line_length;\n",
    "        print(\"y = %f x + %f \\n\" %(k,b));\n",
    "    print(radian)\n",
    "    file = \".\\\\parameter\\\\\" + file_name +\"_parameter.txt\";\n",
    "    f = open(file, 'w',encoding='UTF-8');\n",
    "    f.write(\"%12s %12s %12s\\n\" %(\"a\",\"b\",\"c\"));\n",
    "    for i in range(0,num_curve):\n",
    "        f.write(str(parameter[i,:])+'\\n')\n",
    "    f.write(\"radian : \"+ str(radian));\n",
    "    f.close();\n",
    "\n",
    "    return radian"
   ]
  },
  {
   "cell_type": "code",
   "execution_count": 56,
   "id": "b594e036",
   "metadata": {},
   "outputs": [],
   "source": [
    "def save_png(Image,parameter,file_path,file_name):\n",
    "    [image_y_max,image_x_max] = Image.shape;\n",
    "    num_curve = int(parameter.shape[0]);\n",
    "    plt.xlim((0, image_x_max));\n",
    "    plt.ylim((image_y_max, 0));\n",
    "    plt.imshow(Image,cmap = \"gray\");\n",
    "    for id  in  range(0,num_curve):\n",
    "        t = parameter[id,:];\n",
    "        x_fit = np.zeros(image_x_max);\n",
    "        y_fit = np.zeros(image_x_max);\n",
    "        for x in range(0,image_x_max):\n",
    "            x_fit[x] = x;\n",
    "            y_fit[x] = t[0]*np.cosh((x - t[1])/ t[0]) + t[2];\n",
    "        u_fit = - y_fit + image_y_max - 1;\n",
    "        plt.plot(x_fit,u_fit,color = 'green',linewidth = 2);\n",
    "    file = file_path + file_name + \"_fit.png\";\n",
    "    plt.savefig(file);\n",
    "    plt.show()"
   ]
  },
  {
   "cell_type": "code",
   "execution_count": 57,
   "id": "4a7bef0c",
   "metadata": {},
   "outputs": [],
   "source": [
    "def catenary_fit(file_path,file_name,file_ext,iterate_time):\n",
    "    Image = load_image(file_path,file_name,file_ext);\n",
    "    Image = extract_edge(Image,file_path,file_name);\n",
    "    [Image_cut,sample_points_origin] = get_sample_points(Image);\n",
    "    parameter_origin = initial_fit(Image,sample_points_origin);\n",
    "    [parameter,sample_points] = iterate_fit(Image,sample_points_origin,parameter_origin,iterate_time);\n",
    "    radian = calculate_radian(parameter,sample_points,file_name);\n",
    "    save_png(Image,parameter,file_path,file_name);\n"
   ]
  },
  {
   "cell_type": "code",
   "execution_count": 58,
   "id": "1ec6475e",
   "metadata": {},
   "outputs": [
    {
     "name": "stdout",
     "output_type": "stream",
     "text": [
      ".\\figure\\1.png\n",
      "\n",
      "迭代次数: 6\n",
      "原图片高度：1440,原图片宽度：2560\n"
     ]
    },
    {
     "data": {
      "image/png": "[encoded data removed]",
      "text/plain": [
       "<Figure size 432x288 with 1 Axes>"
      ]
     },
     "metadata": {
      "needs_background": "light"
     },
     "output_type": "display_data"
    },
    {
     "name": "stdout",
     "output_type": "stream",
     "text": [
      "裁剪后长度:129,裁剪后宽度:876\n",
      "\n"
     ]
    },
    {
     "data": {
      "image/png": "[encoded data removed]",
      "text/plain": [
       "<Figure size 432x288 with 1 Axes>"
      ]
     },
     "metadata": {
      "needs_background": "light"
     },
     "output_type": "display_data"
    },
    {
     "name": "stdout",
     "output_type": "stream",
     "text": [
      "判定缆绳数量为：3\n",
      "裁剪后长度:129,裁剪后宽度:876\n",
      "\n",
      "截取起点：431, 截取长度：396\n",
      "\n"
     ]
    },
    {
     "data": {
      "image/png": "[encoded data removed]",
      "text/plain": [
       "<Figure size 432x288 with 1 Axes>"
      ]
     },
     "metadata": {
      "needs_background": "light"
     },
     "output_type": "display_data"
    },
    {
     "data": {
      "image/png": "[encoded data removed]",
      "text/plain": [
       "<Figure size 432x288 with 1 Axes>"
      ]
     },
     "metadata": {
      "needs_background": "light"
     },
     "output_type": "display_data"
    },
    {
     "name": "stdout",
     "output_type": "stream",
     "text": [
      "Iterate_time:0 \n",
      "\n",
      "y = 19024.699831*cosh((x- -618.600554)/19024.699831) + -18969.650690 \n",
      "\n",
      "y = 17388.800651*cosh((x- -802.760951)/17388.800651) + -17388.742790 \n",
      "\n",
      "y = 1495.983095*cosh((x- 679.536520)/1495.983095) + -1486.372255 \n",
      "\n",
      "Iterate_time:1 \n",
      "\n",
      "y = 16348.220066*cosh((x- -444.778937)/16348.220066) + -16287.632259 \n",
      "\n",
      "y = 15679.744312*cosh((x- -665.613235)/15679.744312) + -15674.262697 \n",
      "\n",
      "y = 1599.691774*cosh((x- 686.262831)/1599.691774) + -1589.824560 \n",
      "\n",
      "Iterate_time:2 \n",
      "\n",
      "y = 14809.093761*cosh((x- -351.218886)/14809.093761) + -14745.789630 \n",
      "\n",
      "y = 12862.172481*cosh((x- -448.349870)/12862.172481) + -12848.569342 \n",
      "\n",
      "y = 1728.342821*cosh((x- 698.178592)/1728.342821) + -1718.304947 \n",
      "\n",
      "Iterate_time:3 \n",
      "\n",
      "y = 14809.130152*cosh((x- -351.228740)/14809.130152) + -14745.826623 \n",
      "\n",
      "y = 12854.123650*cosh((x- -447.815238)/12854.123650) + -12840.505525 \n",
      "\n",
      "y = 1728.272610*cosh((x- 698.131457)/1728.272610) + -1718.233865 \n",
      "\n",
      "Iterate_time:4 \n",
      "\n",
      "y = 14809.130152*cosh((x- -351.228740)/14809.130152) + -14745.826623 \n",
      "\n",
      "y = 12854.123650*cosh((x- -447.815238)/12854.123650) + -12840.505525 \n",
      "\n",
      "y = 1728.272626*cosh((x- 698.131459)/1728.272626) + -1718.233881 \n",
      "\n",
      "Iterate_time:5 \n",
      "\n",
      "y = 14809.130152*cosh((x- -351.228740)/14809.130152) + -14745.826623 \n",
      "\n",
      "y = 12854.123650*cosh((x- -447.815238)/12854.123650) + -12840.505525 \n",
      "\n",
      "y = 1728.272626*cosh((x- 698.131459)/1728.272626) + -1718.233881 \n",
      "\n",
      "y = 0.054907 x + 65.956776 \n",
      "\n",
      "y = 0.068765 x + 20.000000 \n",
      "\n",
      "y = -0.141570 x + 133.936937 \n",
      "\n",
      "[0.00784004 0.00778617 0.0560188 ]\n"
     ]
    },
    {
     "data": {
      "image/png": "[encoded data removed]",
      "text/plain": [
       "<Figure size 432x288 with 1 Axes>"
      ]
     },
     "metadata": {
      "needs_background": "light"
     },
     "output_type": "display_data"
    }
   ],
   "source": [
    "file_path = \".\\\\figure\\\\\"\n",
    "file_name = [str(f) for f in range(1,2)];\n",
    "file_ext = \".png\";\n",
    "iterate_time = 6;\n",
    "for f in file_name:\n",
    "    print(file_path + f + file_ext + \"\\n\");\n",
    "    print(\"迭代次数: %d\" %(iterate_time));\n",
    "    catenary_fit(file_path,f,file_ext,iterate_time);"
   ]
  }
 ],
 "metadata": {
  "kernelspec": {
   "display_name": "Python 3.7.13 ('learn')",
   "language": "python",
   "name": "python3"
  },
  "language_info": {
   "codemirror_mode": {
    "name": "ipython",
    "version": 3
   },
   "file_extension": ".py",
   "mimetype": "text/x-python",
   "name": "python",
   "nbconvert_exporter": "python",
   "pygments_lexer": "ipython3",
   "version": "3.7.13"
  },
  "toc": {
   "base_numbering": 1,
   "nav_menu": {},
   "number_sections": true,
   "sideBar": true,
   "skip_h1_title": false,
   "title_cell": "Table of Contents",
   "title_sidebar": "Contents",
   "toc_cell": false,
   "toc_position": {},
   "toc_section_display": true,
   "toc_window_display": false
  },
  "varInspector": {
   "cols": {
    "lenName": 16,
    "lenType": 16,
    "lenVar": 40
   },
   "kernels_config": {
    "python": {
     "delete_cmd_postfix": "",
     "delete_cmd_prefix": "del ",
     "library": "var_list.py",
     "varRefreshCmd": "print(var_dic_list())"
    },
    "r": {
     "delete_cmd_postfix": ") ",
     "delete_cmd_prefix": "rm(",
     "library": "var_list.r",
     "varRefreshCmd": "cat(var_dic_list()) "
    }
   },
   "oldHeight": 430,
   "position": {
    "height": "40px",
    "left": "712px",
    "right": "20px",
    "top": "-1px",
    "width": "313px"
   },
   "types_to_exclude": [
    "module",
    "function",
    "builtin_function_or_method",
    "instance",
    "_Feature"
   ],
   "varInspector_section_display": "none",
   "window_display": false
  },
  "vscode": {
   "interpreter": {
    "hash": "044fb5d7ec4ea748b982964470256c20702f43600b8b73325493a6ef538eb477"
   }
  }
 },
 "nbformat": 4,
 "nbformat_minor": 5
}
